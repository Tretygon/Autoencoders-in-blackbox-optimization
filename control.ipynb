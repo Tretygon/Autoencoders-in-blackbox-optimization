{
 "cells": [
  {
   "cell_type": "code",
   "execution_count": 1,
   "metadata": {},
   "outputs": [
    {
     "name": "stderr",
     "output_type": "stream",
     "text": [
      "c:\\Users\\Admin\\AppData\\Local\\Programs\\Python\\Python39\\lib\\site-packages\\tqdm\\auto.py:21: TqdmWarning: IProgress not found. Please update jupyter and ipywidgets. See https://ipywidgets.readthedocs.io/en/stable/user_install.html\n",
      "  from .autonotebook import tqdm as notebook_tqdm\n"
     ]
    }
   ],
   "source": [
    "%load_ext autoreload\n",
    "%autoreload 2\n",
    "import main\n",
    "import storage\n",
    "import ranks\n",
    "import matplotlib.pyplot as plt\n",
    "import numpy as np\n",
    "import seaborn as sns\n",
    "import pandas as pd\n",
    "import itertools\n",
    "from itertools import takewhile,dropwhile\n",
    "from fractions import Fraction\n",
    "import pd_cols"
   ]
  },
  {
   "cell_type": "code",
   "execution_count": null,
   "metadata": {},
   "outputs": [
    {
     "name": "stderr",
     "output_type": "stream",
     "text": [
      " C:\\Users\\Admin\\AppData\\Local\\Temp\\ipykernel_3592\\618935152.py:3: FutureWarning:arrays to stack must be passed as a \"sequence\" type such as list or tuple. Support for non-sequence iterables such as generators is deprecated as of NumPy 1.16 and will raise an error in the future.\n"
     ]
    },
    {
     "data": {
      "text/plain": [
       "42"
      ]
     },
     "execution_count": 20,
     "metadata": {},
     "output_type": "execute_result"
    }
   ],
   "source": [
    "# df = storage.merge_and_load()\n",
    "# df=df[~(df['note'] == 'ForcedSpecimen0')]\n",
    "# storage.overwrite(df)\n",
    "# 42"
   ]
  },
  {
   "cell_type": "code",
   "execution_count": 18,
   "metadata": {},
   "outputs": [
    {
     "name": "stdout",
     "output_type": "stream",
     "text": [
      "The autoreload extension is already loaded. To reload it, use:\n",
      "  %reload_ext autoreload\n"
     ]
    },
    {
     "name": "stderr",
     "output_type": "stream",
     "text": [
      " C:\\Users\\Admin\\AppData\\Local\\Temp\\ipykernel_9640\\2579267596.py:28: FutureWarning:arrays to stack must be passed as a \"sequence\" type such as list or tuple. Support for non-sequence iterables such as generators is deprecated as of NumPy 1.16 and will raise an error in the future.\n"
     ]
    }
   ],
   "source": [
    "# %matplotlib inline\n",
    "%load_ext autoreload\n",
    "%autoreload 2\n",
    "import main, storage, ranks\n",
    "import matplotlib.pyplot as plt\n",
    "import numpy as np\n",
    "import seaborn as sns\n",
    "import pandas as pd\n",
    "import itertools\n",
    "from itertools import takewhile,dropwhile\n",
    "from fractions import Fraction\n",
    "import pd_cols\n",
    "\n",
    "def p(func, /, *args, **keywords):\n",
    "    def newfunc(*fargs, **fkeywords):\n",
    "        newkeywords = {**keywords, **fkeywords}\n",
    "        return func(*args, *fargs, **newkeywords)\n",
    "    newfunc.func = func\n",
    "    newfunc.args = args\n",
    "    newfunc.keywords = keywords\n",
    "    return newfunc\n",
    "\n",
    "if False: #delete the all experiment records\n",
    "        shutil.rmtree(\"ppdata\")\n",
    "        shutil.rmtree(\"exdata\")\n",
    "        shutil.rmtree(\"graphs\")\n",
    "\n",
    "df_og = storage.merge_and_load()\n",
    "df_og = df_og[(df_og['scale_train'] == False)&(df_og['sort_train'] == False)]\n",
    "df_og['full_desc'] = df_og.apply(pd_cols.get_full_desc,axis=1)\n",
    "df_og, common_eval = ranks.compute_ranks(df_og)\n",
    "\n",
    "# helper functions and axilliary data \n",
    "pd.options.mode.chained_assignment = None          # prevents displaying a useless warning\n",
    "\n",
    "def df_enhance(df):\n",
    "        df['avg_rank'] = df['ranks'].apply(np.mean) \n",
    "        df['last_rank'] = df['ranks'].apply(lambda a: a[-1]) \n",
    "        df['true_evaluations'] = (df['pop_size'] * df['true_ratio']).map(int)\n",
    "        df['true_ratio'] = df['true_ratio'].map(Fraction).map(lambda f:Fraction(1,12) if f.denominator > 9999 else f) # due to floating point inacurracies the 1/12 gets represented weird and needs to be repaired \n",
    "        df['dim_red'] = df['dim_red'].replace('','none')\n",
    "        df['model'] = df['model'].replace('','none')\n",
    "        df['dim_red_kind'] = df['dim_red'].map(lambda a: ''.join(takewhile(lambda s: s.isalpha(), a)))\n",
    "        df['model_kind'] = df['model'].map(lambda a: ''.join(takewhile(lambda s: s.isalpha(), a)))\n",
    "        return df\n",
    "\n",
    "df_og = df_enhance(df_og)\n",
    "# df_og = df_og[df_og['scale_train']]\n",
    "pure_mask = df_og['evo_mode'].map(str) == 'Pure'\n",
    "pures = df_og[pure_mask] \n",
    "# pures2 = df_og[df_og['scale_train']==Tru] \n",
    "\n",
    "pca_mask = (df_og['model_kind'] == 'gp')&(df_og['dim_red_kind'] == 'pca')&((df_og['pop_size']==48)|(df_og['pop_size']==64))&(df_og['true_ratio'].map(Fraction)==Fraction(1/8))\n",
    "pca_df = df_og[pca_mask] \n",
    "\n",
    "# keep the special cases separate, it makes all the graphing easier\n",
    "df_og = df_og[~(\n",
    "       (pure_mask &(df_og['pop_size'] != 8))\n",
    "    #    |(pca_mask&(df_og['dim_red'] != 'pca0.5'))   \n",
    ")]  \n",
    "\n",
    "\n",
    "\n"
   ]
  },
  {
   "cell_type": "code",
   "execution_count": 19,
   "metadata": {},
   "outputs": [],
   "source": [
    "def two_layer_tics(ax):\n",
    "        plt.xticks(rotation=0, size= 'xx-small')\n",
    "        for tick in ax.xaxis.get_major_ticks()[1::2]:\n",
    "                tick.set_pad(15)\n",
    "def save_and_show(name:str):\n",
    "        plt.savefig(f'graphs/{name}.png', bbox_inches='tight')\n",
    "        plt.show()\n",
    "def print_latex(df: pd.Series):\n",
    "        r = lambda s: ' ' if r is None else s.replace('_', ' ')\n",
    "        s= \"\\\\begin{tabular}{|lr|}\\n\"  # + \" | \".join([\"c\"] * len(df.columns)) + \"}\\n\"\n",
    "        s+= \"\\\\hline\\n\"\n",
    "        s+= r(df.index.name) + ' & ' + r(df.name) +'\\\\\\\\\\n'\n",
    "        s+= \"\\\\hline\\n\"\n",
    "        for k, v in df.items():\n",
    "                s+= f\"{k} & {v:0.2f} \\\\\\\\\\n\"\n",
    "        s+= \"\\\\hline\\n\"\n",
    "        s+= \"\\\\end{tabular}\"\n",
    "        print(s)\n",
    "def np_apply_axis0(fn=None):\n",
    "        def inner(arr, fn):\n",
    "                arr = arr.to_list()\n",
    "                b = np.apply_along_axis(fn,0,arr) \n",
    "                return list(b)\n",
    "        return lambda a: inner(a, fn)\n",
    "def close_to(series, num):\n",
    "        return series.map(lambda a: abs(a - num) <= 1e-3)\n",
    "\n",
    "def default_groupby(df, columns):\n",
    "        map_dict = {\n",
    "                'ranks':np_apply_axis0(np.average), \n",
    "                'avg_rank':'mean', \n",
    "                'last_rank':'mean',\n",
    "                'elapsed_time':'mean',\n",
    "                'model':'first',\n",
    "                'dim_red':'first',\n",
    "                'model_kind':'first',\n",
    "                'dim_red_kind':'first',\n",
    "        }\n",
    "        for c in columns:  \n",
    "               if c in map_dict: \n",
    "                      del map_dict[c]\n",
    "        res = df.groupby(columns).agg(map_dict)\n",
    "        return res\n",
    "\n",
    "baselines = default_groupby(pures, ['pop_size'])\n",
    "baseline_color = '#E04836'\n",
    "default_color = 'forestgreen'\n",
    "def bar(df,x_name=None, y_name=None,  index_mapper = None, y_mapper = None, regr = False, baseline_i=-1, x_ticklabel_mapper=None, print_table=True):\n",
    "        if x_name != None:    \n",
    "            df = default_groupby(df,x_name)\n",
    "        if y_name == None:    \n",
    "            y_name='last_rank'\n",
    "        df = df.sort_index()\n",
    "        \n",
    "        if print_table:\n",
    "                print_latex(df[y_name])\n",
    "        colors = [default_color for _ in range(len(df))]\n",
    "        if baseline_i != -1 :\n",
    "                colors += [baseline_color]\n",
    "                df.loc[str(len(df))] = baselines.loc[baseline_i]\n",
    "                \n",
    "        x = df.index\n",
    "        y = df[y_name] \n",
    "        \n",
    "        # if index_mapper != None: \n",
    "        #        x = x.map(index_mapper)\n",
    "        # if y_mapper != None: \n",
    "        #        y = y.map(y_mapper)\n",
    "        ax = sns.barplot(x=x.map(str), y=y, palette=colors)\n",
    "        # fig, ax = plt.subplots()\n",
    "        # ax.bar(x.map(str), y, label=bar_labels, color=bar_colors)\n",
    "        ax.set_ylabel('Rank Percentile')\n",
    "        xn = df.index.name if x_name == None else x_name\n",
    "        if xn != None: # df.index.name can be None\n",
    "                xn = xn.split('_')\n",
    "                xn = map(lambda s: s.capitalize(),xn)\n",
    "                xn = ' '.join(xn)\n",
    "                ax.set_xlabel(xn)\n",
    "        xticklabels = ax.get_xticklabels()\n",
    "        if x_ticklabel_mapper:\n",
    "               xticklabels = x_ticklabel_mapper(xticklabels)\n",
    "        if baseline_i != -1 :\n",
    "                xticklabels[-1] = 'baseline'\n",
    "                plt.axhline(y=y[-1], color=baseline_color, linestyle='dotted')\n",
    "        ax.set_xticklabels(xticklabels, size='small')\n",
    "        # from pydoc import locate\n",
    "# >>> locate('int')\n",
    "        # print('\\n'.join(map(lambda (a,b): f'{a}',zip(y,x))))\n",
    "        if regr:\n",
    "                xx = np.arange(len(y)-(1 if baseline_i != -1  else 0))\n",
    "                m, b = np.polyfit(xx, y[:-1] if baseline_i != -1  else y, 1)\n",
    "                ax.plot(xx, m*xx + b,color='red', alpha=0.5)\n",
    "        return ax \n",
    "\n"
   ]
  },
  {
   "cell_type": "code",
   "execution_count": 20,
   "metadata": {},
   "outputs": [
    {
     "name": "stdout",
     "output_type": "stream",
     "text": [
      "\\begin{tabular}{|lr|}\n",
      "\\hline\n",
      "full desc & last rank\\\\\n",
      "\\hline\n",
      "8_Doe_Pure&10_8_100_300_201_no_mean & 33.29 \\\\\n",
      "8_Doe_Pure&10_8_200_300_200_sig_sampleinc2 & 36.64 \\\\\n",
      "8_Doe_Pure&10_8_40_300_200 & 47.12 \\\\\n",
      "8_Doe_Pure&10_8_40_300_200_sig & 42.01 \\\\\n",
      "8_Doe_Pure&10_8_40_300_200_sig_results & 50.67 \\\\\n",
      "8_Doe_Pure&10_8_40_300_200_sig_sampleinc & 37.01 \\\\\n",
      "8_Doe_Pure&10_8_40_300_200_sig_sampleinc2 & 31.03 \\\\\n",
      "8_Pure_300 & 63.89 \\\\\n",
      "8_Pure_300_sig & 64.17 \\\\\n",
      "\\hline\n",
      "\\end{tabular}\n"
     ]
    },
    {
     "name": "stderr",
     "output_type": "stream",
     "text": [
      " C:\\Users\\Admin\\AppData\\Local\\Temp\\ipykernel_9640\\4100544346.py:69: FutureWarning:\n",
      "\n",
      "Passing `palette` without assigning `hue` is deprecated and will be removed in v0.14.0. Assign the `x` variable to `hue` and set `legend=False` for the same effect.\n",
      "\n",
      " C:\\Users\\Admin\\AppData\\Local\\Temp\\ipykernel_9640\\4100544346.py:85: UserWarning:set_ticklabels() should only be used with a fixed number of ticks, i.e. after set_ticks() or using a FixedLocator.\n"
     ]
    }
   ],
   "source": [
    "df = df_og\n",
    "ax = bar(df,'full_desc',)\n",
    "for tick in ax.xaxis.get_major_ticks()[1::2]:\n",
    "    tick.set_pad(15)\n",
    "plt.xticks(size= 5)\n",
    "save_and_show('rrrrr')"
   ]
  },
  {
   "cell_type": "code",
   "execution_count": 15,
   "metadata": {},
   "outputs": [
    {
     "name": "stdout",
     "output_type": "stream",
     "text": [
      "\\begin{tabular}{|lr|}\n",
      "\\hline\n",
      "full desc & last rank\\\\\n",
      "\\hline\n",
      "10_Pure_300_-1_False_False_False & 80.35 \\\\\n",
      "11_Pure_300_-1_False_False_False & 73.75 \\\\\n",
      "12_Pure_300_-1_False_False_False & 70.87 \\\\\n",
      "13_Pure_300_-1_False_False_False & 70.21 \\\\\n",
      "14_Pure_300_-1_False_False_False & 68.54 \\\\\n",
      "15_Pure_300_-1_False_False_False & 65.69 \\\\\n",
      "16_Pure_300_-1_False_False_False & 63.02 \\\\\n",
      "17_Pure_300_-1_False_False_False & 60.45 \\\\\n",
      "18_Pure_300_-1_False_False_False & 55.62 \\\\\n",
      "19_Pure_300_-1_False_False_False & 56.84 \\\\\n",
      "20_Pure_300_-1_False_False_False & 54.31 \\\\\n",
      "21_Pure_300_-1_False_False_False & 58.40 \\\\\n",
      "22_Pure_300_-1_False_False_False & 46.70 \\\\\n",
      "23_Pure_300_-1_False_False_False & 46.88 \\\\\n",
      "24_Pure_300_-1_False_False_False & 47.19 \\\\\n",
      "25_Pure_300_-1_False_False_False & 44.69 \\\\\n",
      "26_Pure_300_-1_False_False_False & 43.47 \\\\\n",
      "27_Pure_300_-1_False_False_False & 46.53 \\\\\n",
      "28_Pure_300_-1_False_False_False & 40.94 \\\\\n",
      "29_Pure_300_-1_False_False_False & 37.43 \\\\\n",
      "2_Pure_300_-1_False_False_False & 46.01 \\\\\n",
      "30_Pure_300_-1_False_False_False & 39.65 \\\\\n",
      "31_Pure_300_-1_False_False_False & 37.67 \\\\\n",
      "32_Pure_300_-1_False_False_False & 38.16 \\\\\n",
      "3_Pure_300_-1_False_False_False & 61.53 \\\\\n",
      "4_Pure_300_-1_False_False_False & 72.47 \\\\\n",
      "5_Pure_300_-1_False_False_False & 81.11 \\\\\n",
      "6_Pure_300_-1_False_False_False & 81.28 \\\\\n",
      "7_Pure_300_-1_False_False_False & 78.44 \\\\\n",
      "8_Doe_Pure&10_10_40_300_200_False_False_False & 25.73 \\\\\n",
      "8_Doe_Pure&10_1_40_300_200_False_False_False & 12.05 \\\\\n",
      "8_Doe_Pure&10_2_40_300_200_False_False_False & 17.64 \\\\\n",
      "8_Doe_Pure&10_3_40_300_200_False_False_False & 19.48 \\\\\n",
      "8_Doe_Pure&10_4_40_300_200_False_False_False & 23.02 \\\\\n",
      "8_Doe_Pure&10_5_40_300_200_False_False_False & 22.33 \\\\\n",
      "8_Doe_Pure&10_6_40_300_200_False_False_False & 24.76 \\\\\n",
      "8_Doe_Pure&10_7_40_300_200_False_False_False & 30.00 \\\\\n",
      "8_Doe_Pure&10_8_40_300_200_False_False_False & 26.28 \\\\\n",
      "8_Doe_Pure&10_9_40_300_200_False_False_False & 25.94 \\\\\n",
      "8_Pure_300_-1_False_False_False & 78.99 \\\\\n",
      "9_Pure_300_-1_False_False_False & 75.59 \\\\\n",
      "\\hline\n",
      "\\end{tabular}\n"
     ]
    },
    {
     "name": "stderr",
     "output_type": "stream",
     "text": [
      " C:\\Users\\Admin\\AppData\\Local\\Temp\\ipykernel_4128\\4100544346.py:69: FutureWarning:\n",
      "\n",
      "Passing `palette` without assigning `hue` is deprecated and will be removed in v0.14.0. Assign the `x` variable to `hue` and set `legend=False` for the same effect.\n",
      "\n",
      " C:\\Users\\Admin\\AppData\\Local\\Temp\\ipykernel_4128\\4100544346.py:85: UserWarning:set_ticklabels() should only be used with a fixed number of ticks, i.e. after set_ticks() or using a FixedLocator.\n"
     ]
    }
   ],
   "source": [
    "df = df_og\n",
    "ax = bar(df,'full_desc',)\n",
    "for tick in ax.xaxis.get_major_ticks()[1::2]:\n",
    "    tick.set_pad(15)\n",
    "plt.xticks(size= 5)\n",
    "save_and_show('rrrrr')"
   ]
  },
  {
   "cell_type": "code",
   "execution_count": 6,
   "metadata": {},
   "outputs": [
    {
     "name": "stdout",
     "output_type": "stream",
     "text": [
      "\\begin{tabular}{|lr|}\n",
      "\\hline\n",
      "true ratio & last rank\\\\\n",
      "\\hline\n",
      "1 & 50.00 \\\\\n",
      "\\hline\n",
      "\\end{tabular}\n"
     ]
    },
    {
     "name": "stderr",
     "output_type": "stream",
     "text": [
      " C:\\Users\\Admin\\AppData\\Local\\Temp\\ipykernel_4128\\4100544346.py:69: FutureWarning:\n",
      "\n",
      "Passing `palette` without assigning `hue` is deprecated and will be removed in v0.14.0. Assign the `x` variable to `hue` and set `legend=False` for the same effect.\n",
      "\n",
      " C:\\Users\\Admin\\AppData\\Local\\Temp\\ipykernel_4128\\4100544346.py:85: UserWarning:set_ticklabels() should only be used with a fixed number of ticks, i.e. after set_ticks() or using a FixedLocator.\n"
     ]
    }
   ],
   "source": [
    "df = df_og\n",
    "df = default_groupby(df, ['true_ratio'])\n",
    "ax = bar(df,'true_ratio')\n",
    "\n",
    "save_and_show('rrrrr')"
   ]
  },
  {
   "cell_type": "code",
   "execution_count": 11,
   "metadata": {},
   "outputs": [
    {
     "name": "stdout",
     "output_type": "stream",
     "text": [
      "\\begin{tabular}{|lr|}\n",
      "\\hline\n",
      "pop size & last rank\\\\\n",
      "\\hline\n",
      "2 & 31.69 \\\\\n",
      "4 & 60.35 \\\\\n",
      "6 & 71.11 \\\\\n",
      "8 & 68.42 \\\\\n",
      "16 & 48.88 \\\\\n",
      "32 & 25.57 \\\\\n",
      "\\hline\n",
      "\\end{tabular}\n"
     ]
    },
    {
     "name": "stderr",
     "output_type": "stream",
     "text": [
      " C:\\Users\\Admin\\AppData\\Local\\Temp\\ipykernel_4952\\4100544346.py:69: FutureWarning:\n",
      "\n",
      "Passing `palette` without assigning `hue` is deprecated and will be removed in v0.14.0. Assign the `x` variable to `hue` and set `legend=False` for the same effect.\n",
      "\n",
      " C:\\Users\\Admin\\AppData\\Local\\Temp\\ipykernel_4952\\4100544346.py:85: UserWarning:set_ticklabels() should only be used with a fixed number of ticks, i.e. after set_ticks() or using a FixedLocator.\n"
     ]
    }
   ],
   "source": [
    "df = pures\n",
    "# df = df[df['pop_size']]\n",
    "ax = bar(df, 'pop_size')\n",
    "ax.set_xlabel('Population Size')\n",
    "ax.set_title('Normal Evaluation')\n",
    "\n",
    "save_and_show('pure')"
   ]
  },
  {
   "cell_type": "code",
   "execution_count": 12,
   "metadata": {},
   "outputs": [
    {
     "name": "stdout",
     "output_type": "stream",
     "text": [
      "\\begin{tabular}{|lr|}\n",
      "\\hline\n",
      "pca ratio & last rank\\\\\n",
      "\\hline\n",
      "0.1 & 55.75 \\\\\n",
      "0.2 & 47.76 \\\\\n",
      "0.3 & 55.65 \\\\\n",
      "0.4 & 57.11 \\\\\n",
      "0.5 & 63.26 \\\\\n",
      "0.6 & 66.13 \\\\\n",
      "0.7 & 65.43 \\\\\n",
      "0.8 & 73.28 \\\\\n",
      "0.9 & 72.91 \\\\\n",
      "1.0 & 93.40 \\\\\n",
      "\\hline\n",
      "\\end{tabular}\n"
     ]
    },
    {
     "name": "stderr",
     "output_type": "stream",
     "text": [
      " C:\\Users\\Admin\\AppData\\Local\\Temp\\ipykernel_4952\\4100544346.py:69: FutureWarning:\n",
      "\n",
      "Passing `palette` without assigning `hue` is deprecated and will be removed in v0.14.0. Assign the `x` variable to `hue` and set `legend=False` for the same effect.\n",
      "\n",
      " C:\\Users\\Admin\\AppData\\Local\\Temp\\ipykernel_4952\\4100544346.py:84: FutureWarning:Series.__getitem__ treating keys as positions is deprecated. In a future version, integer keys will always be treated as labels (consistent with DataFrame behavior). To access a value by position, use `ser.iloc[pos]`\n",
      " C:\\Users\\Admin\\AppData\\Local\\Temp\\ipykernel_4952\\4100544346.py:85: UserWarning:set_ticklabels() should only be used with a fixed number of ticks, i.e. after set_ticks() or using a FixedLocator.\n"
     ]
    }
   ],
   "source": [
    "# pca \n",
    "from itertools import takewhile,dropwhile\n",
    "\n",
    "st =False\n",
    "df=pca_df[pca_df['scale_train']==st]\n",
    "df = df[(df['model_kind'] == 'gp')&(df['pop_size']==64)]\n",
    "\n",
    "df['pca_ratio'] = df['dim_red'].map(lambda a: ''.join(dropwhile(lambda s: s.isalpha(), a)))\n",
    "\n",
    "# df1 = df_og[(df_og['model_kind'] == 'gp')&(df_og['dim_red_kind'] == 'none')&(df_og['pop_size']==48)&(df_og['true_ratio'].map(Fraction)==Fraction(1/8))].iloc[0]\n",
    "# df1['pca_ratio'] = str(1.0)\n",
    "# df.loc[str(len(df))] = df1\n",
    "df1 = df_og[(df_og['model_kind'] == 'gp')&(df_og['dim_red_kind'] == 'none')&(df_og['pop_size']==64)&(df_og['true_ratio'].map(Fraction)==Fraction(1/8))].iloc[0]\n",
    "\n",
    "df1['pca_ratio'] = str(1.0)\n",
    "df.loc[str(len(df))] = df1\n",
    "ax = bar(df,'pca_ratio', regr=True, baseline_i=8)\n",
    "ax.set_xlabel('pca reduction ratio')\n",
    "ax.set_title('PCA + GP')\n",
    "\n",
    "save_and_show('pca')"
   ]
  },
  {
   "cell_type": "code",
   "execution_count": 14,
   "metadata": {},
   "outputs": [
    {
     "name": "stderr",
     "output_type": "stream",
     "text": [
      " C:\\Users\\Admin\\AppData\\Local\\Temp\\ipykernel_4952\\4100544346.py:69: FutureWarning:\n",
      "\n",
      "Passing `palette` without assigning `hue` is deprecated and will be removed in v0.14.0. Assign the `x` variable to `hue` and set `legend=False` for the same effect.\n",
      "\n",
      " C:\\Users\\Admin\\AppData\\Local\\Temp\\ipykernel_4952\\4100544346.py:69: UserWarning:The palette list has more values (699928) than needed (22), which may not be intended.\n",
      " C:\\Users\\Admin\\AppData\\Local\\Temp\\ipykernel_4952\\4100544346.py:85: UserWarning:set_ticklabels() should only be used with a fixed number of ticks, i.e. after set_ticks() or using a FixedLocator.\n"
     ]
    },
    {
     "ename": "",
     "evalue": "",
     "output_type": "error",
     "traceback": [
      "\u001b[1;31mThe Kernel crashed while executing code in the current cell or a previous cell. \n",
      "\u001b[1;31mPlease review the code in the cell(s) to identify a possible cause of the failure. \n",
      "\u001b[1;31mClick <a href='https://aka.ms/vscodeJupyterKernelCrash'>here</a> for more info. \n",
      "\u001b[1;31mView Jupyter <a href='command:jupyter.viewOutput'>log</a> for further details."
     ]
    }
   ],
   "source": [
    "df=df_og\n",
    "df = df[(df['model_kind'] == 'gp')& (df['dim_red_kind'] == 'none')]  \n",
    "df = default_groupby(df, ['true_evaluations', 'pop_size'])\n",
    "pures2 = pures.set_index(pures['pop_size'].map(lambda n: (n,n)))\n",
    "df = pd.concat([df, pures2])\n",
    "ax = bar(df, print_table=False)\n",
    "\n",
    "save_and_show('pop_evals')"
   ]
  },
  {
   "cell_type": "code",
   "execution_count": 23,
   "metadata": {},
   "outputs": [
    {
     "name": "stdout",
     "output_type": "stream",
     "text": [
      "\\begin{tabular}{|lr|}\n",
      "\\hline\n",
      "dim red & last rank\\\\\n",
      "\\hline\n",
      "none & 69.78 \\\\\n",
      "pca0.5 & 55.46 \\\\\n",
      "vae[0.5] & 47.02 \\\\\n",
      "\\hline\n",
      "\\end{tabular}\n"
     ]
    },
    {
     "name": "stderr",
     "output_type": "stream",
     "text": [
      " C:\\Users\\Admin\\AppData\\Local\\Temp\\ipykernel_7092\\4100544346.py:69: FutureWarning:\n",
      "\n",
      "Passing `palette` without assigning `hue` is deprecated and will be removed in v0.14.0. Assign the `x` variable to `hue` and set `legend=False` for the same effect.\n",
      "\n",
      " C:\\Users\\Admin\\AppData\\Local\\Temp\\ipykernel_7092\\4100544346.py:85: UserWarning:set_ticklabels() should only be used with a fixed number of ticks, i.e. after set_ticks() or using a FixedLocator.\n"
     ]
    }
   ],
   "source": [
    "df=df_og\n",
    "df = df[(df['model_kind'] == 'gp')]  \n",
    "ax = bar(df, 'dim_red')\n",
    "save_and_show('gp_dim_red')\n"
   ]
  },
  {
   "cell_type": "code",
   "execution_count": 22,
   "metadata": {},
   "outputs": [
    {
     "name": "stdout",
     "output_type": "stream",
     "text": [
      "\\begin{tabular}{|lr|}\n",
      "\\hline\n",
      "dim red kind & elapsed time\\\\\n",
      "\\hline\n",
      "none & 5.70 \\\\\n",
      "pca & 7.74 \\\\\n",
      "vae & 50.63 \\\\\n",
      "\\hline\n",
      "\\end{tabular}\n"
     ]
    },
    {
     "name": "stderr",
     "output_type": "stream",
     "text": [
      " C:\\Users\\Admin\\AppData\\Local\\Temp\\ipykernel_7092\\4100544346.py:69: FutureWarning:\n",
      "\n",
      "Passing `palette` without assigning `hue` is deprecated and will be removed in v0.14.0. Assign the `x` variable to `hue` and set `legend=False` for the same effect.\n",
      "\n",
      " C:\\Users\\Admin\\AppData\\Local\\Temp\\ipykernel_7092\\4100544346.py:85: UserWarning:set_ticklabels() should only be used with a fixed number of ticks, i.e. after set_ticks() or using a FixedLocator.\n"
     ]
    }
   ],
   "source": [
    "df=df_og\n",
    "ax = bar(df, 'dim_red_kind', 'elapsed_time')\n",
    "ax.set_ylabel('Iteration Time (ms)')\n",
    "save_and_show('elapsed')"
   ]
  },
  {
   "cell_type": "code",
   "execution_count": 18,
   "metadata": {},
   "outputs": [
    {
     "name": "stdout",
     "output_type": "stream",
     "text": [
      "\\begin{tabular}{|lr|}\n",
      "\\hline\n",
      "model & last rank\\\\\n",
      "\\hline\n",
      "elm10 & 59.43 \\\\\n",
      "elm100 & 66.96 \\\\\n",
      "elm150 & 63.57 \\\\\n",
      "elm200 & 62.38 \\\\\n",
      "elm30 & 68.40 \\\\\n",
      "elm50 & 69.22 \\\\\n",
      "elm500 & 52.35 \\\\\n",
      "gp & 76.51 \\\\\n",
      "mlp[0.5] & 12.13 \\\\\n",
      "mlp[1, 1, 1] & 14.05 \\\\\n",
      "mlp[1, 1] & 20.10 \\\\\n",
      "mlp[10, 10, 10] & 28.28 \\\\\n",
      "mlp[10, 10] & 26.08 \\\\\n",
      "mlp[100] & 25.66 \\\\\n",
      "mlp[10] & 17.00 \\\\\n",
      "mlp[1] & 9.81 \\\\\n",
      "mlp[2] & 11.96 \\\\\n",
      "rbf[0.5]_1.0 & 17.97 \\\\\n",
      "rbf[0.5]_2.0 & 27.25 \\\\\n",
      "rbf[1]_1.0 & 18.03 \\\\\n",
      "rbf[1]_10.0 & 68.48 \\\\\n",
      "rbf[1]_5.0 & 60.54 \\\\\n",
      "rbf[2]_0.5 & 15.41 \\\\\n",
      "rbf[2]_1.0 & 21.60 \\\\\n",
      "rbf[5]_5.0 & 64.16 \\\\\n",
      "\\hline\n",
      "\\end{tabular}\n"
     ]
    },
    {
     "name": "stderr",
     "output_type": "stream",
     "text": [
      " C:\\Users\\Admin\\AppData\\Local\\Temp\\ipykernel_7092\\4100544346.py:69: FutureWarning:\n",
      "\n",
      "Passing `palette` without assigning `hue` is deprecated and will be removed in v0.14.0. Assign the `x` variable to `hue` and set `legend=False` for the same effect.\n",
      "\n",
      " C:\\Users\\Admin\\AppData\\Local\\Temp\\ipykernel_7092\\4100544346.py:85: UserWarning:set_ticklabels() should only be used with a fixed number of ticks, i.e. after set_ticks() or using a FixedLocator.\n"
     ]
    }
   ],
   "source": [
    "df=df_og\n",
    "df = df[(df['dim_red_kind'] == 'none')&(df['pop_size']==48)&(df['true_ratio'].map(Fraction)==Fraction(1/8))]  \n",
    "ax = bar(df, 'model')\n",
    "two_layer_tics(ax)\n",
    "save_and_show('models')\n",
    "\n"
   ]
  },
  {
   "cell_type": "code",
   "execution_count": 17,
   "metadata": {},
   "outputs": [
    {
     "name": "stdout",
     "output_type": "stream",
     "text": [
      "\\begin{tabular}{|lr|}\n",
      "\\hline\n",
      "dim red kind & last rank\\\\\n",
      "\\hline\n",
      "none & 68.76 \\\\\n",
      "pca & 55.46 \\\\\n",
      "vae & 47.02 \\\\\n",
      "\\hline\n",
      "\\end{tabular}\n"
     ]
    },
    {
     "name": "stderr",
     "output_type": "stream",
     "text": [
      " C:\\Users\\Admin\\AppData\\Local\\Temp\\ipykernel_7092\\4100544346.py:69: FutureWarning:\n",
      "\n",
      "Passing `palette` without assigning `hue` is deprecated and will be removed in v0.14.0. Assign the `x` variable to `hue` and set `legend=False` for the same effect.\n",
      "\n",
      " C:\\Users\\Admin\\AppData\\Local\\Temp\\ipykernel_7092\\4100544346.py:85: UserWarning:set_ticklabels() should only be used with a fixed number of ticks, i.e. after set_ticks() or using a FixedLocator.\n"
     ]
    }
   ],
   "source": [
    "# dim_red\n",
    "df=df_og\n",
    "ax = bar(df, 'dim_red_kind')\n",
    "save_and_show('dim_red_kind')\n"
   ]
  },
  {
   "cell_type": "code",
   "execution_count": 10,
   "metadata": {},
   "outputs": [
    {
     "name": "stdout",
     "output_type": "stream",
     "text": [
      "\\begin{tabular}{|lr|}\n",
      "\\hline\n",
      "model & last rank\\\\\n",
      "\\hline\n",
      "elm10 & 59.43 \\\\\n",
      "elm100 & 66.96 \\\\\n",
      "elm150 & 63.57 \\\\\n",
      "elm200 & 62.38 \\\\\n",
      "elm30 & 68.40 \\\\\n",
      "elm50 & 69.22 \\\\\n",
      "elm500 & 52.35 \\\\\n",
      "gp & 56.56 \\\\\n",
      "mlp[0.5] & 12.13 \\\\\n",
      "mlp[1, 1, 1] & 14.05 \\\\\n",
      "mlp[1, 1] & 20.10 \\\\\n",
      "mlp[10, 10, 10] & 28.28 \\\\\n",
      "mlp[10, 10] & 26.08 \\\\\n",
      "mlp[100] & 25.66 \\\\\n",
      "mlp[10] & 17.00 \\\\\n",
      "mlp[1] & 9.81 \\\\\n",
      "mlp[2] & 11.96 \\\\\n",
      "rbf[0.5]_1.0 & 18.00 \\\\\n",
      "rbf[0.5]_2.0 & 27.25 \\\\\n",
      "rbf[1]_1.0 & 18.03 \\\\\n",
      "rbf[1]_10.0 & 68.48 \\\\\n",
      "rbf[1]_5.0 & 60.54 \\\\\n",
      "rbf[2]_0.5 & 15.41 \\\\\n",
      "rbf[2]_1.0 & 21.60 \\\\\n",
      "rbf[5]_5.0 & 64.16 \\\\\n",
      "\\hline\n",
      "\\end{tabular}\n"
     ]
    },
    {
     "name": "stderr",
     "output_type": "stream",
     "text": [
      " C:\\Users\\Admin\\AppData\\Local\\Temp\\ipykernel_7092\\4100544346.py:69: FutureWarning:\n",
      "\n",
      "Passing `palette` without assigning `hue` is deprecated and will be removed in v0.14.0. Assign the `x` variable to `hue` and set `legend=False` for the same effect.\n",
      "\n",
      " C:\\Users\\Admin\\AppData\\Local\\Temp\\ipykernel_7092\\4100544346.py:85: UserWarning:set_ticklabels() should only be used with a fixed number of ticks, i.e. after set_ticks() or using a FixedLocator.\n"
     ]
    }
   ],
   "source": [
    "# rank models without nodimred \n",
    "df=df_og\n",
    "df1 = df[ (df['true_evaluations']==6) & (df['dim_red_kind'] == 'none')]  \n",
    "ax = bar(df, 'model')\n",
    "plt.xticks(rotation=90, size= 'small')\n",
    "save_and_show('models')\n"
   ]
  },
  {
   "cell_type": "code",
   "execution_count": 13,
   "metadata": {},
   "outputs": [
    {
     "name": "stdout",
     "output_type": "stream",
     "text": [
      "\\begin{tabular}{|lr|}\n",
      "\\hline\n",
      "true ratio & last rank\\\\\n",
      "\\hline\n",
      "1/16 & 73.90 \\\\\n",
      "1/12 & 76.95 \\\\\n",
      "1/8 & 75.01 \\\\\n",
      "1/4 & 72.66 \\\\\n",
      "1/2 & 66.72 \\\\\n",
      "\\hline\n",
      "\\end{tabular}\n"
     ]
    },
    {
     "name": "stderr",
     "output_type": "stream",
     "text": [
      " C:\\Users\\Admin\\AppData\\Local\\Temp\\ipykernel_7092\\4100544346.py:69: FutureWarning:\n",
      "\n",
      "Passing `palette` without assigning `hue` is deprecated and will be removed in v0.14.0. Assign the `x` variable to `hue` and set `legend=False` for the same effect.\n",
      "\n",
      " C:\\Users\\Admin\\AppData\\Local\\Temp\\ipykernel_7092\\4100544346.py:85: UserWarning:set_ticklabels() should only be used with a fixed number of ticks, i.e. after set_ticks() or using a FixedLocator.\n",
      " C:\\Users\\Admin\\AppData\\Local\\Temp\\ipykernel_7092\\1393360363.py:13: UserWarning:set_ticklabels() should only be used with a fixed number of ticks, i.e. after set_ticks() or using a FixedLocator.\n"
     ]
    }
   ],
   "source": [
    "#popsize,true_evals           with only gp\n",
    "from fractions import Fraction\n",
    "df=df_og\n",
    "df=df[(df['model_kind'] == 'gp')&(df['dim_red_kind']=='none')]\n",
    "\n",
    "ax = bar(df, 'true_ratio',index_mapper = lambda a: Fraction(a))\n",
    "ax.set_label('dim red, true evals, aux evals')\n",
    "ax.set_xlabel('truly evaluated fraction of population')\n",
    "ax.set_ylabel('rank percentile avg')\n",
    "\n",
    "labels = [item.get_text() for item in ax.get_xticklabels()]\n",
    "labels[1] = '1/12'\n",
    "ax.set_xticklabels(labels)\n",
    "save_and_show('popsize_evals')"
   ]
  },
  {
   "cell_type": "code",
   "execution_count": 15,
   "metadata": {},
   "outputs": [
    {
     "ename": "AttributeError",
     "evalue": "'NoneType' object has no attribute 'replace'",
     "output_type": "error",
     "traceback": [
      "\u001b[1;31m---------------------------------------------------------------------------\u001b[0m",
      "\u001b[1;31mAttributeError\u001b[0m                            Traceback (most recent call last)",
      "Cell \u001b[1;32mIn[15], line 5\u001b[0m\n\u001b[0;32m      3\u001b[0m df\u001b[38;5;241m=\u001b[39mdf[(df[\u001b[38;5;124m'\u001b[39m\u001b[38;5;124mmodel_kind\u001b[39m\u001b[38;5;124m'\u001b[39m] \u001b[38;5;241m==\u001b[39m \u001b[38;5;124m'\u001b[39m\u001b[38;5;124mgp\u001b[39m\u001b[38;5;124m'\u001b[39m)\u001b[38;5;241m&\u001b[39m(df[\u001b[38;5;124m'\u001b[39m\u001b[38;5;124mdim_red_kind\u001b[39m\u001b[38;5;124m'\u001b[39m]\u001b[38;5;241m==\u001b[39m\u001b[38;5;124m'\u001b[39m\u001b[38;5;124mnone\u001b[39m\u001b[38;5;124m'\u001b[39m)]\n\u001b[0;32m      4\u001b[0m df \u001b[38;5;241m=\u001b[39m default_groupby(df, [\u001b[38;5;124m'\u001b[39m\u001b[38;5;124mtrue_evaluations\u001b[39m\u001b[38;5;124m'\u001b[39m,\u001b[38;5;124m'\u001b[39m\u001b[38;5;124mpop_size\u001b[39m\u001b[38;5;124m'\u001b[39m])\n\u001b[1;32m----> 5\u001b[0m ax \u001b[38;5;241m=\u001b[39m \u001b[43mbar\u001b[49m\u001b[43m(\u001b[49m\u001b[43mdf\u001b[49m\u001b[43m)\u001b[49m\n\u001b[0;32m      6\u001b[0m ax\u001b[38;5;241m.\u001b[39mset_label(\u001b[38;5;124m'\u001b[39m\u001b[38;5;124mdim red, true evals, aux evals\u001b[39m\u001b[38;5;124m'\u001b[39m)\n\u001b[0;32m      7\u001b[0m ax\u001b[38;5;241m.\u001b[39mset_xlabel(\u001b[38;5;124m'\u001b[39m\u001b[38;5;124mpopulation: (true evaluated, generated)\u001b[39m\u001b[38;5;124m'\u001b[39m)\n",
      "Cell \u001b[1;32mIn[4], line 56\u001b[0m, in \u001b[0;36mbar\u001b[1;34m(df, x_name, y_name, index_mapper, y_mapper, regr, baseline_i, x_ticklabel_mapper, print_table)\u001b[0m\n\u001b[0;32m     53\u001b[0m df \u001b[38;5;241m=\u001b[39m df\u001b[38;5;241m.\u001b[39msort_index()\n\u001b[0;32m     55\u001b[0m \u001b[38;5;28;01mif\u001b[39;00m print_table:\n\u001b[1;32m---> 56\u001b[0m         \u001b[43mprint_latex\u001b[49m\u001b[43m(\u001b[49m\u001b[43mdf\u001b[49m\u001b[43m[\u001b[49m\u001b[43my_name\u001b[49m\u001b[43m]\u001b[49m\u001b[43m)\u001b[49m\n\u001b[0;32m     57\u001b[0m colors \u001b[38;5;241m=\u001b[39m [default_color \u001b[38;5;28;01mfor\u001b[39;00m _ \u001b[38;5;129;01min\u001b[39;00m \u001b[38;5;28mrange\u001b[39m(\u001b[38;5;28mlen\u001b[39m(df))]\n\u001b[0;32m     58\u001b[0m \u001b[38;5;28;01mif\u001b[39;00m baseline_i \u001b[38;5;241m!=\u001b[39m \u001b[38;5;241m-\u001b[39m\u001b[38;5;241m1\u001b[39m :\n",
      "Cell \u001b[1;32mIn[4], line 12\u001b[0m, in \u001b[0;36mprint_latex\u001b[1;34m(df)\u001b[0m\n\u001b[0;32m     10\u001b[0m s\u001b[38;5;241m=\u001b[39m \u001b[38;5;124m\"\u001b[39m\u001b[38;5;130;01m\\\\\u001b[39;00m\u001b[38;5;124mbegin\u001b[39m\u001b[38;5;132;01m{tabular}\u001b[39;00m\u001b[38;5;124m{\u001b[39m\u001b[38;5;124m|lr|}\u001b[39m\u001b[38;5;130;01m\\n\u001b[39;00m\u001b[38;5;124m\"\u001b[39m  \u001b[38;5;66;03m# + \" | \".join([\"c\"] * len(df.columns)) + \"}\\n\"\u001b[39;00m\n\u001b[0;32m     11\u001b[0m s\u001b[38;5;241m+\u001b[39m\u001b[38;5;241m=\u001b[39m \u001b[38;5;124m\"\u001b[39m\u001b[38;5;130;01m\\\\\u001b[39;00m\u001b[38;5;124mhline\u001b[39m\u001b[38;5;130;01m\\n\u001b[39;00m\u001b[38;5;124m\"\u001b[39m\n\u001b[1;32m---> 12\u001b[0m s\u001b[38;5;241m+\u001b[39m\u001b[38;5;241m=\u001b[39m \u001b[43mr\u001b[49m\u001b[43m(\u001b[49m\u001b[43mdf\u001b[49m\u001b[38;5;241;43m.\u001b[39;49m\u001b[43mindex\u001b[49m\u001b[38;5;241;43m.\u001b[39;49m\u001b[43mname\u001b[49m\u001b[43m)\u001b[49m \u001b[38;5;241m+\u001b[39m \u001b[38;5;124m'\u001b[39m\u001b[38;5;124m & \u001b[39m\u001b[38;5;124m'\u001b[39m \u001b[38;5;241m+\u001b[39m r(df\u001b[38;5;241m.\u001b[39mname) \u001b[38;5;241m+\u001b[39m\u001b[38;5;124m'\u001b[39m\u001b[38;5;130;01m\\\\\u001b[39;00m\u001b[38;5;130;01m\\\\\u001b[39;00m\u001b[38;5;130;01m\\n\u001b[39;00m\u001b[38;5;124m'\u001b[39m\n\u001b[0;32m     13\u001b[0m s\u001b[38;5;241m+\u001b[39m\u001b[38;5;241m=\u001b[39m \u001b[38;5;124m\"\u001b[39m\u001b[38;5;130;01m\\\\\u001b[39;00m\u001b[38;5;124mhline\u001b[39m\u001b[38;5;130;01m\\n\u001b[39;00m\u001b[38;5;124m\"\u001b[39m\n\u001b[0;32m     14\u001b[0m \u001b[38;5;28;01mfor\u001b[39;00m k, v \u001b[38;5;129;01min\u001b[39;00m df\u001b[38;5;241m.\u001b[39mitems():\n",
      "Cell \u001b[1;32mIn[4], line 9\u001b[0m, in \u001b[0;36mprint_latex.<locals>.<lambda>\u001b[1;34m(s)\u001b[0m\n\u001b[0;32m      8\u001b[0m \u001b[38;5;28;01mdef\u001b[39;00m\u001b[38;5;250m \u001b[39m\u001b[38;5;21mprint_latex\u001b[39m(df: pd\u001b[38;5;241m.\u001b[39mSeries):\n\u001b[1;32m----> 9\u001b[0m         r \u001b[38;5;241m=\u001b[39m \u001b[38;5;28;01mlambda\u001b[39;00m s: \u001b[38;5;124m'\u001b[39m\u001b[38;5;124m \u001b[39m\u001b[38;5;124m'\u001b[39m \u001b[38;5;28;01mif\u001b[39;00m r \u001b[38;5;129;01mis\u001b[39;00m \u001b[38;5;28;01mNone\u001b[39;00m \u001b[38;5;28;01melse\u001b[39;00m \u001b[43ms\u001b[49m\u001b[38;5;241;43m.\u001b[39;49m\u001b[43mreplace\u001b[49m(\u001b[38;5;124m'\u001b[39m\u001b[38;5;124m_\u001b[39m\u001b[38;5;124m'\u001b[39m, \u001b[38;5;124m'\u001b[39m\u001b[38;5;124m \u001b[39m\u001b[38;5;124m'\u001b[39m)\n\u001b[0;32m     10\u001b[0m         s\u001b[38;5;241m=\u001b[39m \u001b[38;5;124m\"\u001b[39m\u001b[38;5;130;01m\\\\\u001b[39;00m\u001b[38;5;124mbegin\u001b[39m\u001b[38;5;132;01m{tabular}\u001b[39;00m\u001b[38;5;124m{\u001b[39m\u001b[38;5;124m|lr|}\u001b[39m\u001b[38;5;130;01m\\n\u001b[39;00m\u001b[38;5;124m\"\u001b[39m  \u001b[38;5;66;03m# + \" | \".join([\"c\"] * len(df.columns)) + \"}\\n\"\u001b[39;00m\n\u001b[0;32m     11\u001b[0m         s\u001b[38;5;241m+\u001b[39m\u001b[38;5;241m=\u001b[39m \u001b[38;5;124m\"\u001b[39m\u001b[38;5;130;01m\\\\\u001b[39;00m\u001b[38;5;124mhline\u001b[39m\u001b[38;5;130;01m\\n\u001b[39;00m\u001b[38;5;124m\"\u001b[39m\n",
      "\u001b[1;31mAttributeError\u001b[0m: 'NoneType' object has no attribute 'replace'"
     ]
    }
   ],
   "source": [
    "#popsize,true_evals           with only gp\n",
    "df=df_og\n",
    "df=df[(df['model_kind'] == 'gp')&(df['dim_red_kind']=='none')]\n",
    "df = default_groupby(df, ['true_evaluations','pop_size'])\n",
    "ax = bar(df)\n",
    "ax.set_label('dim red, true evals, aux evals')\n",
    "ax.set_xlabel('population: (true evaluated, generated)')\n",
    "ax.set_ylabel('rank percentile avg')\n",
    "# xlabel = ax.get_xlabel()\n",
    "# ax.set_xlabel([1,2,3], rotation='horizontal')\n",
    "# plt.savefig(\"graphs/pop.png\")\n",
    "# plt.pause(0.01)\n",
    "plt.show() "
   ]
  },
  {
   "cell_type": "code",
   "execution_count": null,
   "metadata": {},
   "outputs": [
    {
     "name": "stderr",
     "output_type": "stream",
     "text": [
      " c:\\Users\\Admin\\Desktop\\Diplomka\\plotting.py:103: FutureWarning:Series.__getitem__ treating keys as positions is deprecated. In a future version, integer keys will always be treated as labels (consistent with DataFrame behavior). To access a value by position, use `ser.iloc[pos]`\n"
     ]
    }
   ],
   "source": [
    "# df=pca_df[(pca_df['scale_train']==True)&(pca_df['function']==8)&(pca_df['instance']==1)]\n",
    "df = df_og\n",
    "ranks.plot_ranks(df, common_eval)"
   ]
  }
 ],
 "metadata": {
  "kernelspec": {
   "display_name": "Python 3",
   "language": "python",
   "name": "python3"
  },
  "language_info": {
   "codemirror_mode": {
    "name": "ipython",
    "version": 3
   },
   "file_extension": ".py",
   "mimetype": "text/x-python",
   "name": "python",
   "nbconvert_exporter": "python",
   "pygments_lexer": "ipython3",
   "version": "3.9.8"
  }
 },
 "nbformat": 4,
 "nbformat_minor": 2
}
